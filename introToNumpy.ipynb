{
  "nbformat": 4,
  "nbformat_minor": 0,
  "metadata": {
    "colab": {
      "provenance": [],
      "authorship_tag": "ABX9TyMJuQ4gnCogMrqUJQZSTqyR",
      "include_colab_link": true
    },
    "kernelspec": {
      "name": "python3",
      "display_name": "Python 3"
    },
    "language_info": {
      "name": "python"
    }
  },
  "cells": [
    {
      "cell_type": "markdown",
      "metadata": {
        "id": "view-in-github",
        "colab_type": "text"
      },
      "source": [
        "<a href=\"https://colab.research.google.com/github/Probingbug/foundations-for-ML/blob/main/introToNumpy.ipynb\" target=\"_parent\"><img src=\"https://colab.research.google.com/assets/colab-badge.svg\" alt=\"Open In Colab\"/></a>"
      ]
    },
    {
      "cell_type": "code",
      "execution_count": null,
      "metadata": {
        "colab": {
          "base_uri": "https://localhost:8080/"
        },
        "id": "pddrSnuBdFKU",
        "outputId": "d94a6728-07d9-4a32-8b6c-211c5bc4a7eb"
      },
      "outputs": [
        {
          "output_type": "stream",
          "name": "stdout",
          "text": [
            "your name is Anupam\n"
          ]
        }
      ],
      "source": [
        "def print_your_name(name):\n",
        "  return(f\"your name is {name}\")\n",
        "\n",
        "print(print_your_name('Anupam'))"
      ]
    },
    {
      "cell_type": "markdown",
      "source": [
        "**print all even numbers from 1 to 10 using a loop**"
      ],
      "metadata": {
        "id": "DzmAQNZrehJ8"
      }
    },
    {
      "cell_type": "code",
      "source": [
        "def even(ranges):\n",
        "  for i in range(ranges):\n",
        "    if(i%2==0):\n",
        "      print(i)\n",
        "\n",
        "\n",
        "even(10)\n"
      ],
      "metadata": {
        "colab": {
          "base_uri": "https://localhost:8080/"
        },
        "id": "6LW95Kmueokh",
        "outputId": "5976355a-9c52-47c5-8e25-bd4cb4ad556e"
      },
      "execution_count": null,
      "outputs": [
        {
          "output_type": "stream",
          "name": "stdout",
          "text": [
            "0\n",
            "2\n",
            "4\n",
            "6\n",
            "8\n"
          ]
        }
      ]
    },
    {
      "cell_type": "markdown",
      "source": [
        "**comparison between numpy and lists**"
      ],
      "metadata": {
        "id": "a634BZTO5Gsf"
      }
    },
    {
      "cell_type": "code",
      "source": [
        "import time\n",
        "import numpy as np\n",
        "\n",
        "a=list(range(10_000_000))\n",
        "b=list(range(10_000_000))\n",
        "\n",
        "start_time=time.time()\n",
        "for i in range(len (a)):\n",
        "  a[i]*=b[i]\n",
        "\n",
        "end_time=time.time()\n",
        "\n",
        "print(f\"time taken by list is {end_time-start_time}\")\n",
        "\n",
        "c=np.array(range(10_000_000))\n",
        "d=np.array(range(10_000_000))\n",
        "\n",
        "start_time=time.time()\n",
        "c*d\n",
        "end_time=time.time()\n",
        "\n",
        "print(f\"time taken by numpy is {end_time-start_time}\")\n",
        "\n"
      ],
      "metadata": {
        "colab": {
          "base_uri": "https://localhost:8080/"
        },
        "id": "BHbH1PQk5ND5",
        "outputId": "c1d19b98-b0dd-46ee-e8a4-92d37789c3da"
      },
      "execution_count": null,
      "outputs": [
        {
          "output_type": "stream",
          "name": "stdout",
          "text": [
            "time taken by list is 1.6950247287750244\n",
            "time taken by numpy is 0.0357818603515625\n"
          ]
        }
      ]
    },
    {
      "cell_type": "markdown",
      "source": [
        "**Matrix Multiplication**"
      ],
      "metadata": {
        "id": "giKJuEW57lEx"
      }
    },
    {
      "cell_type": "code",
      "source": [
        "import numpy as np\n",
        "import time\n",
        "import random\n",
        "\n",
        "N=1000\n",
        "\n",
        "a=[]\n",
        "b=[]\n",
        "c=[]\n",
        "\n",
        "for i in range (N):\n",
        "  a.append([0]*N)\n",
        "  b.append([0]*N)\n",
        "  c.append([0]*N)\n",
        "\n",
        "start_time=time.time()\n",
        "\n",
        "for i in range(N):\n",
        "  for j in range(N):\n",
        "    for k in range(N):\n",
        "      c[i][j]+=a[i][k]*b[k][j]\n",
        "\n",
        "end_time=time.time()\n",
        "\n",
        "print(f\"time taken by list is {end_time-start_time}\")\n",
        "\n",
        "a=np.random.rand(N,N)\n",
        "b=np.random.rand(N,N)\n",
        "\n",
        "start_time=time.time()\n",
        "c=a@b\n",
        "end_time=time.time()\n",
        "\n",
        "print(f\"time taken by numpy arrays {end_time - start_time}\")\n",
        "print(c.shape)"
      ],
      "metadata": {
        "colab": {
          "base_uri": "https://localhost:8080/"
        },
        "id": "V4aOW4b4-daJ",
        "outputId": "62ffa64d-4175-4cb0-ab13-2db16ba540c0"
      },
      "execution_count": null,
      "outputs": [
        {
          "output_type": "stream",
          "name": "stdout",
          "text": [
            "time taken by list is 316.9196379184723\n",
            "time taken by numpy arrays 0.08447051048278809\n",
            "(1000, 1000)\n"
          ]
        }
      ]
    }
  ]
}